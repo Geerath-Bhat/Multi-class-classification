{
 "cells": [
  {
   "cell_type": "markdown",
   "metadata": {
    "id": "MWzNKVJFnR-C"
   },
   "source": [
    "## Importing dataset"
   ]
  },
  {
   "cell_type": "code",
   "execution_count": 1,
   "metadata": {
    "id": "SrTcZV5nnWAf"
   },
   "outputs": [],
   "source": [
    "import numpy  as np\n",
    "import matplotlib.pyplot as plt\n",
    "np.random.seed(0)\n",
    "import math"
   ]
  },
  {
   "cell_type": "code",
   "execution_count": 2,
   "metadata": {},
   "outputs": [],
   "source": [
    "# Loading data\n",
    "train_data = np.loadtxt('./p3_train.csv', delimiter=',',skiprows=1)\n",
    "test_data = np.loadtxt('./p3_test.csv', delimiter=',',skiprows=1)"
   ]
  },
  {
   "cell_type": "code",
   "execution_count": 3,
   "metadata": {
    "id": "DBRE75tgnhNO"
   },
   "outputs": [],
   "source": [
    "# Creating main training and testing dataset so that we can use them later too\n",
    "X_train_main, Y_train_main = train_data[:,:10], train_data[:,10]\n",
    "X_test_main, Y_test_main = test_data[:,:10], test_data[:,10]"
   ]
  },
  {
   "cell_type": "markdown",
   "metadata": {
    "id": "TG-88xU-nqry"
   },
   "source": [
    "## 1. Bayes Classifier"
   ]
  },
  {
   "cell_type": "code",
   "execution_count": 4,
   "metadata": {
    "id": "QF1WEpFBn2Nd"
   },
   "outputs": [],
   "source": [
    "classes, features = 5, 10"
   ]
  },
  {
   "cell_type": "markdown",
   "metadata": {
    "id": "99K9_VXC0PZR"
   },
   "source": [
    "### For Normal Density"
   ]
  },
  {
   "cell_type": "code",
   "execution_count": 5,
   "metadata": {
    "id": "tOWJbUkXX9WP"
   },
   "outputs": [],
   "source": [
    "# Creating list having training data of each class with class as index of list \n",
    "temp = train_data[:,:]\n",
    "lst = [] \n",
    "for i in range(1,classes+1):\n",
    "  x = temp[np.where(temp[:,10]==i)]\n",
    "  x = x[:,:10] # taking 10 features\n",
    "  lst.append(x)"
   ]
  },
  {
   "cell_type": "code",
   "execution_count": 6,
   "metadata": {
    "id": "cuH0k4AHYWS_"
   },
   "outputs": [],
   "source": [
    "# assigning training and testing datas to main data\n",
    "Y_train, Y_test = Y_train_main, Y_test_main\n",
    "X_train, X_test = X_train_main, X_test_main"
   ]
  },
  {
   "cell_type": "code",
   "execution_count": 7,
   "metadata": {
    "id": "u8Vo8xbv0PZS"
   },
   "outputs": [],
   "source": [
    "mean=[]   # mean for each class\n",
    "for i in range(classes):\n",
    "  a=lst[i]\n",
    "  a = a.mean(axis=0)\n",
    "  mean.append(a)"
   ]
  },
  {
   "cell_type": "code",
   "execution_count": 8,
   "metadata": {
    "id": "CRf1BhoN0gFJ"
   },
   "outputs": [],
   "source": [
    "variance=[]    # Update Variance in this step\n",
    "for i in range(classes):\n",
    "  a=lst[i]-mean[i]\n",
    "  v = a.T@a/lst[i].shape[0]\n",
    "  v = np.linalg.inv(v)\n",
    "  variance.append(v)"
   ]
  },
  {
   "cell_type": "code",
   "execution_count": 9,
   "metadata": {
    "colab": {
     "base_uri": "https://localhost:8080/"
    },
    "id": "H5iAbWLS26u-",
    "outputId": "e2da3c90-c23c-45ad-87b6-eedb4ffad0bb"
   },
   "outputs": [
    {
     "data": {
      "text/plain": [
       "(10, 10)"
      ]
     },
     "execution_count": 9,
     "metadata": {},
     "output_type": "execute_result"
    }
   ],
   "source": [
    "variance[1].shape"
   ]
  },
  {
   "cell_type": "code",
   "execution_count": 10,
   "metadata": {
    "colab": {
     "base_uri": "https://localhost:8080/"
    },
    "id": "igFoQ87o0PZT",
    "outputId": "55caf6b4-3fd2-483f-fbb4-ba43ab9dfa7b"
   },
   "outputs": [
    {
     "data": {
      "text/plain": [
       "(15000, 10)"
      ]
     },
     "execution_count": 10,
     "metadata": {},
     "output_type": "execute_result"
    }
   ],
   "source": [
    "X_test.shape"
   ]
  },
  {
   "cell_type": "markdown",
   "metadata": {
    "id": "9cgowKo0YbAo"
   },
   "source": [
    "#### Training"
   ]
  },
  {
   "cell_type": "code",
   "execution_count": 11,
   "metadata": {
    "id": "iQ7MaaSL0PZT"
   },
   "outputs": [],
   "source": [
    "count = 0\n",
    "for i in range(X_train.shape[0]):\n",
    "  g = []                   #  Storing class conditionals of 5 classes\n",
    "  for j in range(classes):\n",
    "    v = (X_train[i]-mean[j])\n",
    "    v=v.reshape((v.shape[0],1))\n",
    "    k=0.5*v.T@variance[j]@v\n",
    "    k = math.sqrt(np.linalg.det(variance[j]))*math.exp(-k)\n",
    "    g.append(k)          #comparing exponent values\n",
    "    #print(g)\n",
    "  k = g.index(max(g)) +1\n",
    "  #print(g)\n",
    "  if k==Y_train[i]:\n",
    "    count=count+1"
   ]
  },
  {
   "cell_type": "code",
   "execution_count": 12,
   "metadata": {
    "colab": {
     "base_uri": "https://localhost:8080/"
    },
    "id": "viJXPHuF0PZU",
    "outputId": "da280bf5-cd32-4b33-da36-343968349680"
   },
   "outputs": [
    {
     "name": "stdout",
     "output_type": "stream",
     "text": [
      "Accuracy is: 59.37166666666667 %\n"
     ]
    }
   ],
   "source": [
    "print(f'Accuracy is: {count*100/60000} %')"
   ]
  },
  {
   "cell_type": "markdown",
   "metadata": {
    "id": "2EGwa9KgYq4Y"
   },
   "source": [
    "#### Testing"
   ]
  },
  {
   "cell_type": "code",
   "execution_count": 13,
   "metadata": {
    "id": "RTSn9S8cYuXf"
   },
   "outputs": [],
   "source": [
    "confusion_matrix = np.zeros((classes,classes))"
   ]
  },
  {
   "cell_type": "code",
   "execution_count": 14,
   "metadata": {
    "id": "b62EkMiwYuXg"
   },
   "outputs": [],
   "source": [
    "count = 0\n",
    "for i in range(X_test.shape[0]):\n",
    "  g = []                   #  5 classes storing here\n",
    "  for j in range(classes):\n",
    "    v = (X_test[i]-mean[j])\n",
    "    v=v.reshape((v.shape[0],1))\n",
    "    k=0.5*v.T@variance[j]@v\n",
    "    k = math.sqrt(np.linalg.det(variance[j]))*math.exp(-k)\n",
    "    g.append(k) \n",
    "  k = g.index(max(g))         \n",
    "  if k==int(Y_test[i])-1:\n",
    "    count=count+1\n",
    "  v = int(Y_test[i])-1\n",
    "  confusion_matrix[v][k] += 1"
   ]
  },
  {
   "cell_type": "code",
   "execution_count": 15,
   "metadata": {
    "colab": {
     "base_uri": "https://localhost:8080/"
    },
    "id": "IkZPKNqzYuXg",
    "outputId": "d75d78f8-15a1-4173-916e-2e711cbd819d"
   },
   "outputs": [
    {
     "name": "stdout",
     "output_type": "stream",
     "text": [
      "Test Accuracy is: 59.38 %\n"
     ]
    }
   ],
   "source": [
    "print(f'Test Accuracy is: {count*100/15000} %')"
   ]
  },
  {
   "cell_type": "code",
   "execution_count": 16,
   "metadata": {
    "colab": {
     "base_uri": "https://localhost:8080/"
    },
    "id": "VwPk8xo8YuXg",
    "outputId": "06afd841-584f-414c-c418-5d445fefad65"
   },
   "outputs": [
    {
     "name": "stdout",
     "output_type": "stream",
     "text": [
      "testing data confusion matrix is:\n",
      "[[1627.  362.  264.  344.  374.]\n",
      " [ 381. 1744.  277.  267.  312.]\n",
      " [ 298.  296. 1914.  241.  291.]\n",
      " [ 321.  334.  254. 1794.  272.]\n",
      " [ 364.  309.  231.  301. 1828.]]\n"
     ]
    }
   ],
   "source": [
    "print('testing data confusion matrix is:')\n",
    "print(confusion_matrix)"
   ]
  },
  {
   "cell_type": "code",
   "execution_count": 17,
   "metadata": {},
   "outputs": [],
   "source": [
    "# function for F1 score"
   ]
  },
  {
   "cell_type": "code",
   "execution_count": 18,
   "metadata": {
    "id": "Oyvn65wXYuXg"
   },
   "outputs": [],
   "source": [
    "def F1(classes,confusion_matrix):\n",
    "    TP, TN, FP, FN, F1 = [], [], [], [], []  # True positive True negative False Positive False negative and F values\n",
    "    for i in range(classes):\n",
    "      TP.append(confusion_matrix[i][i])\n",
    "      TN.append(np.sum(confusion_matrix)-np.sum(confusion_matrix[i,:])-np.sum(confusion_matrix[:,i])+confusion_matrix[i][i])\n",
    "      FP.append(np.sum(confusion_matrix[i,:])-confusion_matrix[i][i])\n",
    "      FN.append(np.sum(confusion_matrix[:,i])-confusion_matrix[i][i])\n",
    "      F1.append((2*TP[i])/(2*TP[i] + FP[i] + FN[i]))\n",
    "    return F1\n",
    "score = F1(classes,confusion_matrix)"
   ]
  },
  {
   "cell_type": "code",
   "execution_count": 19,
   "metadata": {
    "colab": {
     "base_uri": "https://localhost:8080/"
    },
    "id": "S1EwKhJbYuXh",
    "outputId": "97f8007c-b35c-40bf-f98c-9f917ebeb587"
   },
   "outputs": [
    {
     "name": "stdout",
     "output_type": "stream",
     "text": [
      "F1 Score (Class 0): 0.545790003354579\n",
      "F1 Score (Class 1): 0.5788250912711583\n",
      "F1 Score (Class 2): 0.640133779264214\n",
      "F1 Score (Class 3): 0.6058763931104356\n",
      "F1 Score (Class 4): 0.5983633387888707\n"
     ]
    }
   ],
   "source": [
    "for c in range(classes):\n",
    "    print(f\"F1 Score (Class {c}): {score[c]}\")"
   ]
  },
  {
   "cell_type": "markdown",
   "metadata": {
    "id": "AK0aIO2y5zGK"
   },
   "source": [
    "### Exp Density"
   ]
  },
  {
   "cell_type": "code",
   "execution_count": 20,
   "metadata": {
    "id": "YdJoikFGakO4"
   },
   "outputs": [],
   "source": [
    "# assigning data for this part\n",
    "X_train, Y_train = np.absolute(train_data[:,:10]), train_data[:,10]\n",
    "X_test, Y_test = np.absolute(test_data[:,:10]), test_data[:,10]"
   ]
  },
  {
   "cell_type": "code",
   "execution_count": 21,
   "metadata": {
    "id": "Nb-ZIGLI5zGM"
   },
   "outputs": [],
   "source": [
    "temp = train_data[:,:]\n",
    "lst = []\n",
    "for i in range(1,classes+1):\n",
    "  x = temp[np.where(temp[:,10]==i)]\n",
    "  x = x[:,:10]\n",
    "  lst.append(x)"
   ]
  },
  {
   "cell_type": "code",
   "execution_count": 22,
   "metadata": {
    "id": "5bamRkFV5zGM"
   },
   "outputs": [],
   "source": [
    "# computing Median\n",
    "median=[]  \n",
    "for i in range(classes):\n",
    "  a=lst[i]\n",
    "  a = np.median(a,axis=0)\n",
    "  median.append(a)"
   ]
  },
  {
   "cell_type": "code",
   "execution_count": 23,
   "metadata": {
    "id": "geilql4s5zGM"
   },
   "outputs": [],
   "source": [
    "# Finding Sigma\n",
    "sigma = []\n",
    "for i in range(classes):\n",
    "  s = np.zeros(10)  # 10 is size of features\n",
    "  for j in range(lst[i].shape[0]):\n",
    "    x=lst[i]\n",
    "    s=s+np.absolute(x[j]-median[i])\n",
    "  s=s/lst[i].shape[0]\n",
    "  sigma.append(s)"
   ]
  },
  {
   "cell_type": "markdown",
   "metadata": {
    "id": "_w-l1kf_a5Rj"
   },
   "source": [
    "#### Training"
   ]
  },
  {
   "cell_type": "code",
   "execution_count": 24,
   "metadata": {
    "id": "eKB-uQid5zGO"
   },
   "outputs": [],
   "source": [
    "count = 0\n",
    "for i in range(X_train.shape[0]):\n",
    "  g = []                   #  Storing class conditionals of 5 classes\n",
    "  for j in range(classes):\n",
    "    k=0\n",
    "    s=1\n",
    "    x = X_train[i]\n",
    "    for l in range(10): # 10 is number of features\n",
    "      k=k+abs(x[l]-median[j][l])/sigma[j][l]\n",
    "      s = s*sigma[j][l]\n",
    "    k = math.exp(-0.5*k)/s\n",
    "    g.append(k)\n",
    "  k = g.index(max(g)) +1\n",
    "  if k==Y_train[i]:\n",
    "    count=count+1"
   ]
  },
  {
   "cell_type": "code",
   "execution_count": 25,
   "metadata": {
    "colab": {
     "base_uri": "https://localhost:8080/"
    },
    "id": "_dpZaFbuGXnM",
    "outputId": "6f958719-c325-4cfc-a1b8-24470516d16d"
   },
   "outputs": [
    {
     "name": "stdout",
     "output_type": "stream",
     "text": [
      "Accuracy is: 48.78666666666667 %\n"
     ]
    }
   ],
   "source": [
    "print(f'Accuracy is: {count*100/X_train.shape[0]} %')"
   ]
  },
  {
   "cell_type": "markdown",
   "metadata": {
    "id": "hE9DGFZ1b2d2"
   },
   "source": [
    "#### Testing"
   ]
  },
  {
   "cell_type": "code",
   "execution_count": 26,
   "metadata": {
    "id": "NiLkfZ5gqPhp"
   },
   "outputs": [],
   "source": [
    "confusion_matrix = np.zeros((classes,classes))"
   ]
  },
  {
   "cell_type": "code",
   "execution_count": 27,
   "metadata": {
    "id": "pYAQztzV5zGN"
   },
   "outputs": [],
   "source": [
    "count = 0\n",
    "for i in range(X_test.shape[0]):\n",
    "  g = []                   #  Storing class conditionals of 5 classes\n",
    "  for j in range(classes):\n",
    "    k=0\n",
    "    s=1\n",
    "    x = X_test[i]\n",
    "    for l in range(10): # 10 is number of features\n",
    "      k=k+abs(x[l]-median[j][l])/sigma[j][l]\n",
    "      s = s*sigma[j][l]\n",
    "    k = math.exp(-0.5*k)/s\n",
    "    g.append(k)\n",
    "  k = g.index(max(g))\n",
    "  if k==int(Y_test[i])-1:\n",
    "    count=count+1\n",
    "  v = int(Y_test[i])-1\n",
    "  confusion_matrix[v][k] += 1"
   ]
  },
  {
   "cell_type": "code",
   "execution_count": 28,
   "metadata": {
    "colab": {
     "base_uri": "https://localhost:8080/"
    },
    "id": "RxuuQeVy5zGO",
    "outputId": "c209e632-e7c7-4a7d-de9a-be558f451562"
   },
   "outputs": [
    {
     "name": "stdout",
     "output_type": "stream",
     "text": [
      "Accuracy is: 48.50666666666667 %\n"
     ]
    }
   ],
   "source": [
    "print(f'Accuracy is: {count*100/15000} %')"
   ]
  },
  {
   "cell_type": "code",
   "execution_count": 29,
   "metadata": {
    "colab": {
     "base_uri": "https://localhost:8080/"
    },
    "id": "UY4BlexvqR6W",
    "outputId": "45e8e5f3-0469-433f-d394-9ddf8b17e225"
   },
   "outputs": [
    {
     "name": "stdout",
     "output_type": "stream",
     "text": [
      "testing data confusion matrix is:\n",
      "[[1056.  506.  460.  430.  519.]\n",
      " [ 302. 1435.  427.  384.  433.]\n",
      " [ 249.  388. 1747.  287.  369.]\n",
      " [ 255.  437.  411. 1464.  408.]\n",
      " [ 268.  411.  410.  370. 1574.]]\n"
     ]
    }
   ],
   "source": [
    "print('testing data confusion matrix is:')\n",
    "print(confusion_matrix)"
   ]
  },
  {
   "cell_type": "code",
   "execution_count": 30,
   "metadata": {
    "id": "hqVesZwQqokk"
   },
   "outputs": [],
   "source": [
    "score = F1(classes,confusion_matrix)"
   ]
  },
  {
   "cell_type": "code",
   "execution_count": 31,
   "metadata": {
    "colab": {
     "base_uri": "https://localhost:8080/"
    },
    "id": "_Ofh6tTwqqkP",
    "outputId": "f6de6cc3-2818-424a-b16a-36969547f01e"
   },
   "outputs": [
    {
     "name": "stdout",
     "output_type": "stream",
     "text": [
      "F1 Score (Class 0): 0.41403646343854145\n",
      "F1 Score (Class 1): 0.46606040922377395\n",
      "F1 Score (Class 2): 0.5379522709776752\n",
      "F1 Score (Class 3): 0.4954314720812183\n",
      "F1 Score (Class 4): 0.49684343434343436\n"
     ]
    }
   ],
   "source": [
    "for c in range(classes):\n",
    "    print(f\"F1 Score (Class {c}): {score[c]}\")"
   ]
  },
  {
   "cell_type": "markdown",
   "metadata": {
    "id": "Nf0PQJQTuvqH"
   },
   "source": [
    "## 2. Multi class using logistic regressor"
   ]
  },
  {
   "cell_type": "code",
   "execution_count": 32,
   "metadata": {
    "id": "Br0h4g6Qu5mM"
   },
   "outputs": [],
   "source": [
    "# assigning training and testing data to main data\n",
    "Y_train = Y_train_main\n",
    "Y_test = Y_test_main\n",
    "X_train = X_train_main\n",
    "X_test = X_test_main"
   ]
  },
  {
   "cell_type": "code",
   "execution_count": 33,
   "metadata": {
    "colab": {
     "base_uri": "https://localhost:8080/"
    },
    "id": "mQGMLCm3vLiC",
    "outputId": "8cabad21-2bfb-46f1-dcdb-60adb75a9509"
   },
   "outputs": [
    {
     "data": {
      "text/plain": [
       "(60000, 11)"
      ]
     },
     "execution_count": 33,
     "metadata": {},
     "output_type": "execute_result"
    }
   ],
   "source": [
    "# making augmented train \n",
    "tmp = np.ones((X_train.shape[0],1)) \n",
    "X_train=np.column_stack((X_train,tmp))\n",
    "X_train.shape"
   ]
  },
  {
   "cell_type": "code",
   "execution_count": 34,
   "metadata": {
    "colab": {
     "base_uri": "https://localhost:8080/"
    },
    "id": "zJEIl3HSvQRQ",
    "outputId": "09760a0e-8d7f-4302-c58c-62ae3a0ef755"
   },
   "outputs": [
    {
     "data": {
      "text/plain": [
       "(15000, 11)"
      ]
     },
     "execution_count": 34,
     "metadata": {},
     "output_type": "execute_result"
    }
   ],
   "source": [
    "# making augmented train \n",
    "tmp = np.ones((X_test.shape[0],1))\n",
    "X_test=np.column_stack((X_test,tmp))\n",
    "X_test.shape"
   ]
  },
  {
   "cell_type": "markdown",
   "metadata": {
    "id": "4_6Pc6e3vtL3"
   },
   "source": [
    "### Training"
   ]
  },
  {
   "cell_type": "code",
   "execution_count": 35,
   "metadata": {
    "id": "_oRTf5GuvVlf"
   },
   "outputs": [],
   "source": [
    "classes, features = 5, 11"
   ]
  },
  {
   "cell_type": "code",
   "execution_count": 36,
   "metadata": {
    "id": "rsNkgr7Uvp-h"
   },
   "outputs": [],
   "source": [
    "# computing Weight for every class\n",
    "W=[]\n",
    "for i in range(5):\n",
    "  W.append(np.ones((features,1)))"
   ]
  },
  {
   "cell_type": "code",
   "execution_count": 37,
   "metadata": {
    "id": "VdJkE88xvvWR"
   },
   "outputs": [],
   "source": [
    "def calc_loss(X,W,j):\n",
    "  X=X.reshape((X.shape[0],1))\n",
    "  e=[]                        # exponent e\n",
    "  g = []                      # softmax g\n",
    "  grad = []                   # gradient grad\n",
    "  for i in range(classes):\n",
    "    e.append(math.exp(W[i].T@X))\n",
    "  k = sum(e)\n",
    "  for i in range(classes):\n",
    "    g.append(e[i]/k)\n",
    "  loss = -1*math.log(g[j])     # loss for single image\n",
    "  for i in range(classes):\n",
    "    if i!=j:\n",
    "      grad.append(-g[i]*X.reshape(X.shape[0]))\n",
    "    else:\n",
    "      grad.append((1-g[i])*X.reshape(X.shape[0]))\n",
    "  return loss,grad"
   ]
  },
  {
   "cell_type": "code",
   "execution_count": 38,
   "metadata": {
    "id": "XrvPtVSVvxhw"
   },
   "outputs": [],
   "source": [
    "def train_epoch1():\n",
    "  final_loss = 0\n",
    "  final_grad = np.zeros((features,classes))  \n",
    "  for i in range(X_train.shape[0]):\n",
    "    loss,grad = calc_loss(X_train[i,:],W,int(Y_train[i])-1)    \n",
    "    final_loss =final_loss + loss\n",
    "    final_grad = final_grad + np.stack(grad,axis = 1)\n",
    "  return final_loss,final_grad"
   ]
  },
  {
   "cell_type": "code",
   "execution_count": 39,
   "metadata": {
    "colab": {
     "base_uri": "https://localhost:8080/"
    },
    "id": "e7xDg3L_vzzL",
    "outputId": "345bd0b4-b9e3-4e8a-ae8b-592e2ae6d7a0"
   },
   "outputs": [
    {
     "name": "stdout",
     "output_type": "stream",
     "text": [
      "loss at 10th epoch is 1.1437872440219479\n"
     ]
    }
   ],
   "source": [
    "epochs, alpha, prev_loss = 10, 10, 0\n",
    "for i in range(epochs):\n",
    "  loss,grad = train_epoch1()\n",
    "  for j in range(classes):\n",
    "    gradient = grad[:,j].reshape(grad[:,j].shape[0],1)\n",
    "    if prev_loss<loss:\n",
    "      alpha = (alpha/10)\n",
    "    W[j]=W[j]+alpha*gradient/np.linalg.norm(gradient)\n",
    "    prev_loss = loss\n",
    "print(f'loss at {i+1}th epoch is {loss/X_train.shape[0]}')"
   ]
  },
  {
   "cell_type": "code",
   "execution_count": 40,
   "metadata": {
    "colab": {
     "base_uri": "https://localhost:8080/"
    },
    "id": "uPUHd1k8wCqX",
    "outputId": "3d1e20f1-88e4-44f7-c744-89bd61b790fa"
   },
   "outputs": [
    {
     "name": "stdout",
     "output_type": "stream",
     "text": [
      "ERM on training data is: 1.1437872440219479\n"
     ]
    }
   ],
   "source": [
    "print(f'ERM on training data is: {loss/X_train.shape[0]}')"
   ]
  },
  {
   "cell_type": "markdown",
   "metadata": {
    "id": "1E4bn4Rzwgdo"
   },
   "source": [
    "### Testing"
   ]
  },
  {
   "cell_type": "code",
   "execution_count": 41,
   "metadata": {
    "id": "WBRA-l0rwhiJ"
   },
   "outputs": [],
   "source": [
    "confusion_matrix = np.zeros((classes,classes))\n",
    "count, loss = 0, 0\n",
    "for i in range(X_test.shape[0]):\n",
    "  X = X_test[i,:]\n",
    "  X=X.reshape((X.shape[0],1))\n",
    "  e=[]                        # exponent\n",
    "  g = []                      # softmax\n",
    "  grad = []                   # gradient \n",
    "  for j in range(classes):\n",
    "    e.append(math.exp(W[j].T@X))\n",
    "  k = sum(e)\n",
    "  for j in range(classes):\n",
    "    g.append(e[j]/k)\n",
    "  k = g.index(max(g))\n",
    "  if k==int(Y_test[i])-1:  # Class starts from 1\n",
    "    count = count+1\n",
    "  v = int(Y_test[i])-1\n",
    "  confusion_matrix[v][k] += 1\n",
    "\n",
    "  loss = loss - 1*math.log(g[v])"
   ]
  },
  {
   "cell_type": "code",
   "execution_count": 42,
   "metadata": {
    "colab": {
     "base_uri": "https://localhost:8080/"
    },
    "id": "C-25meQXwpSr",
    "outputId": "7f169600-8734-4133-81ba-591fcd7cca53"
   },
   "outputs": [
    {
     "name": "stdout",
     "output_type": "stream",
     "text": [
      "testing accuracy is: 57.4\n"
     ]
    }
   ],
   "source": [
    "print(f'testing accuracy is: {count*100/X_test.shape[0]}')"
   ]
  },
  {
   "cell_type": "code",
   "execution_count": 43,
   "metadata": {
    "colab": {
     "base_uri": "https://localhost:8080/"
    },
    "id": "QMgK15Z-x7j5",
    "outputId": "43934423-1855-4662-9a42-2f26cc83795d"
   },
   "outputs": [
    {
     "name": "stdout",
     "output_type": "stream",
     "text": [
      "ERM on testing data is: 1.1423187833220085\n"
     ]
    }
   ],
   "source": [
    "print(f'ERM on testing data is: {loss/X_test.shape[0]}')"
   ]
  },
  {
   "cell_type": "code",
   "execution_count": 44,
   "metadata": {
    "colab": {
     "base_uri": "https://localhost:8080/"
    },
    "id": "R7e4LxexyEgu",
    "outputId": "33633828-cb21-463d-d181-b11c9bfa2431"
   },
   "outputs": [
    {
     "name": "stdout",
     "output_type": "stream",
     "text": [
      "testing data confusion matrix is:\n",
      "[[1554.  398.  279.  343.  397.]\n",
      " [ 389. 1715.  274.  263.  340.]\n",
      " [ 330.  316. 1845.  243.  306.]\n",
      " [ 359.  357.  249. 1711.  299.]\n",
      " [ 362.  330.  232.  324. 1785.]]\n"
     ]
    }
   ],
   "source": [
    "print('testing data confusion matrix is:')\n",
    "print(confusion_matrix)"
   ]
  },
  {
   "cell_type": "code",
   "execution_count": 45,
   "metadata": {
    "id": "eC53j0cUyEgv"
   },
   "outputs": [],
   "source": [
    "score = F1(classes,confusion_matrix)"
   ]
  },
  {
   "cell_type": "code",
   "execution_count": 46,
   "metadata": {
    "colab": {
     "base_uri": "https://localhost:8080/"
    },
    "id": "bCrjoTvpyEgw",
    "outputId": "e5c315ff-42de-40c3-bd4a-2ab95abd2142"
   },
   "outputs": [
    {
     "name": "stdout",
     "output_type": "stream",
     "text": [
      "F1 Score (Class 0): 0.5210393964794635\n",
      "F1 Score (Class 1): 0.5625717566016073\n",
      "F1 Score (Class 2): 0.6234161175874303\n",
      "F1 Score (Class 3): 0.5840587130909711\n",
      "F1 Score (Class 4): 0.5795454545454546\n"
     ]
    }
   ],
   "source": [
    "for c in range(classes):\n",
    "    print(f\"F1 Score (Class {c}): {score[c]}\")"
   ]
  },
  {
   "cell_type": "markdown",
   "metadata": {
    "id": "vEpxK112GMhk"
   },
   "source": [
    "## 3. One vs rest"
   ]
  },
  {
   "cell_type": "code",
   "execution_count": 47,
   "metadata": {
    "id": "AT8fEjBAwL4U"
   },
   "outputs": [],
   "source": [
    "Y_train, Y_test = Y_train_main, Y_test_main\n",
    "X_train, X_test = X_train_main,  X_test_main"
   ]
  },
  {
   "cell_type": "code",
   "execution_count": 48,
   "metadata": {
    "id": "iKnLiQVYr9HM"
   },
   "outputs": [],
   "source": [
    "tmp = np.ones((X_train.shape[0],1))  # augmented train data\n",
    "X_train=np.column_stack((X_train,tmp))"
   ]
  },
  {
   "cell_type": "code",
   "execution_count": 49,
   "metadata": {
    "id": "05hy1zaOsEqv"
   },
   "outputs": [],
   "source": [
    "tmp = np.ones((X_test.shape[0],1))  # augmented test data\n",
    "X_test=np.column_stack((X_test,tmp))"
   ]
  },
  {
   "cell_type": "code",
   "execution_count": 50,
   "metadata": {
    "id": "isFXFtmCmUIP"
   },
   "outputs": [],
   "source": [
    "classes, features = 5, 11"
   ]
  },
  {
   "cell_type": "code",
   "execution_count": 51,
   "metadata": {
    "id": "1bzefElwxxpF"
   },
   "outputs": [],
   "source": [
    "# we have to do one hot encoding of classes\n",
    "Y_class = np.zeros((X_train.shape[0],classes))\n",
    "for i in range(X_train.shape[0]):\n",
    "  v = int(Y_train[i]-1)\n",
    "  Y_class[i][v]=1"
   ]
  },
  {
   "cell_type": "code",
   "execution_count": 52,
   "metadata": {
    "id": "pxaOsfWUmSIV"
   },
   "outputs": [],
   "source": [
    "W=[] # Weights \n",
    "for i in range(classes):\n",
    "  y = Y_class[:,i]\n",
    "  y=y.reshape(y.shape[0],1)\n",
    "  W.append((np.linalg.pinv(X_train.T@X_train))@X_train.T@y) # to elimnate the singular matrix we use pinv"
   ]
  },
  {
   "cell_type": "code",
   "execution_count": 53,
   "metadata": {
    "id": "E5_9HTwBnL9w"
   },
   "outputs": [],
   "source": [
    "count = 0 #error on train data\n",
    "for i in range(X_train.shape[0]):\n",
    "  for j in range(classes):\n",
    "    a = X_train[i]@W[j]\n",
    "    if(a[0]>=0):\n",
    "      if(j==Y_train[i]-1):\n",
    "        count=count+1\n",
    "      break"
   ]
  },
  {
   "cell_type": "code",
   "execution_count": 54,
   "metadata": {
    "colab": {
     "base_uri": "https://localhost:8080/"
    },
    "id": "eJFRmCwTG6lT",
    "outputId": "86ddb0f9-a390-40b4-927e-dd6c7e2ed505"
   },
   "outputs": [
    {
     "name": "stdout",
     "output_type": "stream",
     "text": [
      "Train accuracy is: 0.22433333333333333\n"
     ]
    }
   ],
   "source": [
    "print(f'Train accuracy is: {count*100/X_train.shape[0]/100}')"
   ]
  },
  {
   "cell_type": "code",
   "execution_count": 55,
   "metadata": {
    "id": "4txinZKFwG2h"
   },
   "outputs": [],
   "source": [
    "count = 0 # error on test data\n",
    "for i in range(X_test.shape[0]):\n",
    "  for j in range(classes):\n",
    "    a = X_test[i]@W[j]\n",
    "    if(a>0):\n",
    "      if(j==Y_test[i]-1):\n",
    "        count=count+1\n",
    "      break"
   ]
  },
  {
   "cell_type": "code",
   "execution_count": 56,
   "metadata": {
    "colab": {
     "base_uri": "https://localhost:8080/"
    },
    "id": "JlPAiQkfHCOF",
    "outputId": "f82852c2-0b49-4cbd-d3bf-8808bd750210"
   },
   "outputs": [
    {
     "name": "stdout",
     "output_type": "stream",
     "text": [
      "Test accuracy is: 0.2216\n"
     ]
    }
   ],
   "source": [
    "print(f'Test accuracy is: {count*100/X_test.shape[0]/100}')"
   ]
  },
  {
   "cell_type": "markdown",
   "metadata": {
    "id": "irSo9PmFj5NH"
   },
   "source": [
    "## 4. ROC curves"
   ]
  },
  {
   "cell_type": "markdown",
   "metadata": {
    "id": "8_DZrulaOACl"
   },
   "source": [
    "### (i)"
   ]
  },
  {
   "cell_type": "code",
   "execution_count": 57,
   "metadata": {
    "id": "Xnx9APNie_uA"
   },
   "outputs": [],
   "source": [
    "classes = 2"
   ]
  },
  {
   "cell_type": "code",
   "execution_count": 58,
   "metadata": {
    "id": "BNMVCLQZe_uA"
   },
   "outputs": [],
   "source": [
    "temp = train_data[:,:]\n",
    "lst = []\n",
    "ans = []\n",
    "for i in range(classes):\n",
    "  x1 = temp[np.where(temp[:,10]==i+1)]\n",
    "  x = x1[:,:10]\n",
    "  y = x1[:,10]\n",
    "  y=y.reshape((y.shape[0],1))\n",
    "  lst.append(x)\n",
    "  ans.append(y)"
   ]
  },
  {
   "cell_type": "code",
   "execution_count": 59,
   "metadata": {
    "id": "n6roVKXCe_uA"
   },
   "outputs": [],
   "source": [
    "l = np.row_stack((lst[0],lst[1]))\n",
    "m = np.row_stack((ans[0],ans[1]))"
   ]
  },
  {
   "cell_type": "code",
   "execution_count": 60,
   "metadata": {
    "id": "ASBWsGFQe_uB"
   },
   "outputs": [],
   "source": [
    "mean=[]   \n",
    "for i in range(classes):\n",
    "  a=lst[i]\n",
    "  a = a.mean(axis=0)\n",
    "  mean.append(a)"
   ]
  },
  {
   "cell_type": "code",
   "execution_count": 61,
   "metadata": {
    "id": "w-jivhjYe_uB"
   },
   "outputs": [],
   "source": [
    "TPR, FPR = [], []\n",
    "for j in range(20):\n",
    "  count = 0\n",
    "  threshold=(j-10)/100\n",
    "  TP , FP, TN, FN = 0, 0, 0, 0\n",
    "  for i in range(l.shape[0]):\n",
    "    v = (l[i]-mean[0])\n",
    "    v = np.power(v,2)\n",
    "    k = 0.5 * np.sum(v)\n",
    "    k1 = math.exp(-k)\n",
    "    v = (l[i]-mean[1])\n",
    "    v = np.power(v,2)\n",
    "    k = 0.5 * np.sum(v)\n",
    "    k2 = math.exp(-k)\n",
    "    if k1-k2>threshold:\n",
    "      k=2\n",
    "    else:\n",
    "      k=1\n",
    "    if k==int(m[i][0]) and k==2:\n",
    "      TP+=1\n",
    "    elif k==int(m[i][0]) and k==1:\n",
    "      TN+=1\n",
    "    elif k!=int(m[i][0]) and k==2:\n",
    "      FP+=1\n",
    "    else:\n",
    "      FN+=1\n",
    "  TPR.append(TP/(TP+FN))\n",
    "  FPR.append(FP/(FP+TN))\n",
    "    "
   ]
  },
  {
   "cell_type": "code",
   "execution_count": 62,
   "metadata": {
    "colab": {
     "base_uri": "https://localhost:8080/",
     "height": 282
    },
    "id": "iibVC6nze_uB",
    "outputId": "33f08ae7-eac5-46b3-e6f7-f4267f8109d6"
   },
   "outputs": [
    {
     "data": {
      "text/plain": [
       "[<matplotlib.lines.Line2D at 0x12727127d50>]"
      ]
     },
     "execution_count": 62,
     "metadata": {},
     "output_type": "execute_result"
    },
    {
     "data": {
      "image/png": "[encoded data removed]",
      "text/plain": [
       "<Figure size 640x480 with 1 Axes>"
      ]
     },
     "metadata": {},
     "output_type": "display_data"
    }
   ],
   "source": [
    "plt.plot(TPR,FPR)"
   ]
  },
  {
   "cell_type": "markdown",
   "metadata": {},
   "source": [
    "# (ii)"
   ]
  },
  {
   "cell_type": "code",
   "execution_count": 63,
   "metadata": {},
   "outputs": [],
   "source": [
    "classes = 5"
   ]
  },
  {
   "cell_type": "code",
   "execution_count": 64,
   "metadata": {},
   "outputs": [
    {
     "name": "stdout",
     "output_type": "stream",
     "text": [
      "-0.00926194489982542\n",
      "1.3879458736167734\n"
     ]
    }
   ],
   "source": [
    "temp = train_data[:,:]\n",
    "f1 = temp[np.where(temp[:,10]==1)]\n",
    "f1 = f1[:,3:4]   # as per question taking only one feature for ROC\n",
    "f1 = np.column_stack((f1,np.ones(f1.shape[0])))\n",
    "print(f1[:,0].mean())\n",
    "f2 = temp[np.where(temp[:,10]==2)]\n",
    "f2 = f2[:,3:4]    # as per question taking only one feature for ROC\n",
    "f2 = np.column_stack((f2,np.zeros(f2.shape[0])))\n",
    "print(f2[:,0].mean())"
   ]
  },
  {
   "cell_type": "code",
   "execution_count": 65,
   "metadata": {},
   "outputs": [],
   "source": [
    "f = np.row_stack((f1,f2))"
   ]
  },
  {
   "cell_type": "code",
   "execution_count": 66,
   "metadata": {},
   "outputs": [],
   "source": [
    "TPR, FPR = [], []\n",
    "for i in range(-6,6):\n",
    "  TP , FP, TN, FN = 0, 0, 0, 0\n",
    "  for j in range(f.shape[0]):\n",
    "    if f[j][0]>i and f[j][1]==1:\n",
    "      TP=TP+1\n",
    "    elif f[j][0]>i and f[j][1]==0:\n",
    "      FP =FP+1\n",
    "    elif f[j][0]<=i and f[j][1]==0:\n",
    "      TN = TN+1\n",
    "    else:\n",
    "      FN = FN+1\n",
    "  TPR.append(TP/(TP+FN))\n",
    "  FPR.append(FP/(FP+TN))"
   ]
  },
  {
   "cell_type": "code",
   "execution_count": 67,
   "metadata": {},
   "outputs": [
    {
     "data": {
      "text/plain": [
       "[<matplotlib.lines.Line2D at 0x12727127e10>]"
      ]
     },
     "execution_count": 67,
     "metadata": {},
     "output_type": "execute_result"
    },
    {
     "data": {
      "image/png": "[encoded data removed]",
      "text/plain": [
       "<Figure size 640x480 with 1 Axes>"
      ]
     },
     "metadata": {},
     "output_type": "display_data"
    }
   ],
   "source": [
    "plt.plot(TPR,FPR)"
   ]
  }
 ],
 "metadata": {
  "colab": {
   "collapsed_sections": [
    "zyqr6IhAmYPx",
    "baek659_R7tL",
    "x7xgqW18nLAk",
    "BD6WLxk7U_32",
    "TG-88xU-nqry",
    "99K9_VXC0PZR",
    "Nf0PQJQTuvqH",
    "0KBqMiKaw2y1",
    "vEpxK112GMhk",
    "QSshari5guyd",
    "vPtYRAz20WWG",
    "SkA2-9it1Bg4",
    "5jh9yUAbEkSD",
    "O2ttDoLJ1f5y",
    "C3AG2AhQ2U9v",
    "0hEYegdoE0Xn",
    "NcUW8reBAXjk",
    "xijVzQdMAlFl",
    "fneWFEfGFOvY",
    "4iUxp3KDDjmP",
    "AaW0wqrhDjmS",
    "wqISgR3fG33w",
    "kOMTtUEGEbhT",
    "Jtqiz_2DEbhX",
    "u_ilk1yjHaKM",
    "tlmjpN7wE9Sd",
    "xfJOweLoE9Sg",
    "8pyB4nhoE9Sh",
    "XGlv4eeCIWrQ",
    "zC7R1pC8c274",
    "8iz29ul6Gqs4",
    "_b_xEshWvgb2",
    "-yuEVruAG1Lf",
    "R5hREEtrbe1w",
    "QbdmhABifFLO",
    "1MHPfpTwv57h",
    "Kk4be0D-hA0P",
    "BqbI1zBkhZXT",
    "75OE8zwVyhmv",
    "ABeAGo3Uhlxw",
    "qnxslrXWhlxz",
    "1i1KzaAzzfF9",
    "3wRhYjDshsrC",
    "aigd5ow9hsrF",
    "57k2PINR0IHS",
    "EXC0nxaKh1nz",
    "L4FFxoDwh1n1",
    "I8I71JVy0N_H",
    "wYhCboz8CBsa"
   ],
   "provenance": []
  },
  "kernelspec": {
   "display_name": "Python 3 (ipykernel)",
   "language": "python",
   "name": "python3"
  },
  "language_info": {
   "codemirror_mode": {
    "name": "ipython",
    "version": 3
   },
   "file_extension": ".py",
   "mimetype": "text/x-python",
   "name": "python",
   "nbconvert_exporter": "python",
   "pygments_lexer": "ipython3",
   "version": "3.11.1"
  }
 },
 "nbformat": 4,
 "nbformat_minor": 1
}
